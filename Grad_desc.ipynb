{
  "nbformat": 4,
  "nbformat_minor": 0,
  "metadata": {
    "colab": {
      "provenance": [],
      "authorship_tag": "ABX9TyMzgmzgNNTINiqUNkuX2gYV",
      "include_colab_link": true
    },
    "kernelspec": {
      "name": "python3",
      "display_name": "Python 3"
    },
    "language_info": {
      "name": "python"
    }
  },
  "cells": [
    {
      "cell_type": "markdown",
      "metadata": {
        "id": "view-in-github",
        "colab_type": "text"
      },
      "source": [
        "<a href=\"https://colab.research.google.com/github/abhi-s-03/Gradient-Descent/blob/main/Grad_desc.ipynb\" target=\"_parent\"><img src=\"https://colab.research.google.com/assets/colab-badge.svg\" alt=\"Open In Colab\"/></a>"
      ]
    },
    {
      "cell_type": "code",
      "execution_count": 6,
      "metadata": {
        "colab": {
          "base_uri": "https://localhost:8080/"
        },
        "id": "W43v8W2qxgaG",
        "outputId": "4c0f0c1f-949f-45b0-efc1-faa94599bf73"
      },
      "outputs": [
        {
          "output_type": "stream",
          "name": "stdout",
          "text": [
            "Enter the coefficients\n",
            "0 2 -3 7\n",
            "The solution for x is approximately: 0.7304367486289383\n"
          ]
        }
      ],
      "source": [
        "import numpy as np\n",
        "\n",
        "print(\"Enter the coefficients\")\n",
        "a,b,c,d=map(float,input().split())\n",
        "\n",
        "x = np.random.rand()\n",
        "learning_rate = 0.01\n",
        "epochs = 10000\n",
        "\n",
        "for epoch in range(epochs):\n",
        "\n",
        "    gradient = 3*a*x*x + 2*b*x + c\n",
        "    if gradient < 0:\n",
        "        break\n",
        "\n",
        "    x -= learning_rate * gradient\n",
        "\n",
        "print(f\"The solution for x is approximately: {x}\")"
      ]
    }
  ]
}